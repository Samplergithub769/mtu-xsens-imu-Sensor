{
  "nbformat": 4,
  "nbformat_minor": 0,
  "metadata": {
    "colab": {
      "provenance": [],
      "include_colab_link": true
    },
    "kernelspec": {
      "name": "python3",
      "display_name": "Python 3"
    },
    "language_info": {
      "name": "python"
    }
  },
  "cells": [
    {
      "cell_type": "markdown",
      "metadata": {
        "id": "view-in-github",
        "colab_type": "text"
      },
      "source": [
        "<a href=\"https://colab.research.google.com/github/Samplergithub769/mtu-xsens-imu-Sensor/blob/main/mtu_xsens_imu_Sensor.ipynb\" target=\"_parent\"><img src=\"https://colab.research.google.com/assets/colab-badge.svg\" alt=\"Open In Colab\"/></a>"
      ]
    },
    {
      "cell_type": "markdown",
      "source": [
        "**Import Libraries**"
      ],
      "metadata": {
        "id": "p1LR4Em5BBGx"
      }
    },
    {
      "cell_type": "code",
      "execution_count": 1,
      "metadata": {
        "id": "Eh2xN1ht5RLm"
      },
      "outputs": [],
      "source": [
        "import pandas as pd\n",
        "import numpy as np"
      ]
    },
    {
      "cell_type": "markdown",
      "source": [
        "**Load Datasets**"
      ],
      "metadata": {
        "id": "2BKXQZGOCH1m"
      }
    },
    {
      "cell_type": "code",
      "source": [
        "df_25hz = pd.read_csv('/content/25hz.csv', skiprows=12)\n",
        "df_50hz = pd.read_csv('/content/50hz.csv', skiprows=12)\n",
        "df_100hz = pd.read_csv('/content/100hz.csv', skiprows=12)\n",
        "\n",
        "df_noise_25hz = pd.read_csv('/content/Noise_25HZ.csv', skiprows=12)\n",
        "df_noise_50hz = pd.read_csv('/content/Noise_50hz.csv', skiprows=12)\n",
        "df_noise_100hz = pd.read_csv('/content/Noise_100hz.csv', skiprows=12)\n",
        "\n"
      ],
      "metadata": {
        "id": "r934mYtTBNN_"
      },
      "execution_count": 3,
      "outputs": []
    },
    {
      "cell_type": "code",
      "source": [],
      "metadata": {
        "id": "qnod3o7KDENJ"
      },
      "execution_count": null,
      "outputs": []
    }
  ]
}