{
  "nbformat": 4,
  "nbformat_minor": 0,
  "metadata": {
    "colab": {
      "provenance": [],
      "include_colab_link": true
    },
    "kernelspec": {
      "name": "python3",
      "display_name": "Python 3"
    },
    "language_info": {
      "name": "python"
    }
  },
  "cells": [
    {
      "cell_type": "markdown",
      "metadata": {
        "id": "view-in-github",
        "colab_type": "text"
      },
      "source": [
        "<a href=\"https://colab.research.google.com/github/Samplergithub769/mtu-xsens-imu-Sensor/blob/main/mtu_xsens_imu_Sensor.ipynb\" target=\"_parent\"><img src=\"https://colab.research.google.com/assets/colab-badge.svg\" alt=\"Open In Colab\"/></a>"
      ]
    },
    {
      "cell_type": "markdown",
      "source": [
        "**Import Libraries**"
      ],
      "metadata": {
        "id": "p1LR4Em5BBGx"
      }
    },
    {
      "cell_type": "code",
      "execution_count": null,
      "metadata": {
        "id": "Eh2xN1ht5RLm"
      },
      "outputs": [],
      "source": [
        "import pandas as pd\n",
        "import numpy as np\n",
        "import matplotlib.pyplot as plt\n",
        "import seaborn as sns\n",
        "\n"
      ]
    },
    {
      "cell_type": "markdown",
      "source": [
        "**Load Datasets**"
      ],
      "metadata": {
        "id": "2BKXQZGOCH1m"
      }
    },
    {
      "cell_type": "code",
      "source": [
        "df_25hz = pd.read_csv(\"/content/25hz.csv\", skiprows=12)\n",
        "df_50hz = pd.read_csv(\"/content/50hz.csv\", skiprows=12)\n",
        "df_100hz = pd.read_csv(\"/content/100hz.csv\", skiprows=12)\n",
        "df_noise_25hz = pd.read_csv(\"/content/Noise_25HZ.csv\", skiprows=12)\n",
        "df_noise_50hz = pd.read_csv(\"/content/Noise_50hz.csv\", skiprows=12)\n",
        "df_noise_100hz = pd.read_csv(\"/content/Noise_100hz.csv\", skiprows=12)\n"
      ],
      "metadata": {
        "id": "BRGdF5GLhM1A"
      },
      "execution_count": null,
      "outputs": []
    },
    {
      "cell_type": "markdown",
      "source": [
        "**Display the first few rows and information for each DataFrame**"
      ],
      "metadata": {
        "id": "n5nZq_UJTbop"
      }
    },
    {
      "cell_type": "code",
      "source": [
        "print(\"25hz.csv:\")\n",
        "print(df_25hz.head())\n",
        "\n",
        "print(\"\\n50hz.csv:\")\n",
        "print(df_50hz.head())\n",
        "\n",
        "print(\"\\n100hz.csv:\")\n",
        "print(df_100hz.head())\n",
        "\n",
        "print(\"\\nNoise_25HZ.csv:\")\n",
        "print(df_noise_25hz.head())\n",
        "\n",
        "print(\"\\nNoise_50hz.csv:\")\n",
        "print(df_noise_50hz.head())\n",
        "\n",
        "print(\"\\nNoise_100hz.csv:\")\n",
        "print(df_noise_100hz.head())"
      ],
      "metadata": {
        "id": "gLgswc9sTqc_"
      },
      "execution_count": null,
      "outputs": []
    },
    {
      "cell_type": "code",
      "source": [
        "print(\"Info for df_25hz:\")\n",
        "df_25hz.info()\n",
        "print(\"\\nMissing values in df_25hz:\")\n",
        "print(df_25hz.isnull().sum())\n",
        "\n",
        "print(\"\\nInfo for df_50hz:\")\n",
        "df_50hz.info()\n",
        "print(\"\\nMissing values in df_50hz:\")\n",
        "print(df_50hz.isnull().sum())\n",
        "\n",
        "print(\"\\nInfo for df_100hz:\")\n",
        "df_100hz.info()\n",
        "print(\"\\nMissing values in df_100hz:\")\n",
        "print(df_100hz.isnull().sum())\n",
        "\n",
        "print(\"\\nInfo for df_noise_25hz:\")\n",
        "df_noise_25hz.info()\n",
        "print(\"\\nMissing values in df_noise_25hz:\")\n",
        "print(df_noise_25hz.isnull().sum())\n",
        "\n",
        "print(\"\\nInfo for df_noise_50hz:\")\n",
        "df_noise_50hz.info()\n",
        "print(\"\\nMissing values in df_noise_50hz:\")\n",
        "print(df_noise_50hz.isnull().sum())\n",
        "\n",
        "print(\"\\nInfo for df_noise_100hz:\")\n",
        "df_noise_100hz.info()\n",
        "print(\"\\nMissing values in df_noise_100hz:\")\n",
        "print(df_noise_100hz.isnull().sum())"
      ],
      "metadata": {
        "id": "rWdQrDdQuQgQ"
      },
      "execution_count": null,
      "outputs": []
    },
    {
      "cell_type": "code",
      "source": [
        "#Define the columns for analysis\n",
        "acc_cols = ['AccHR_X', 'AccHR_Y', 'AccHR_Z']\n",
        "\n",
        "# Function to plot histograms side by side\n",
        "def plot_histograms(clean_df, noisy_df, label):\n",
        "    plt.figure(figsize=(14, 10))\n",
        "    for i, col in enumerate(acc_cols):\n",
        "        plt.subplot(3, 2, 2*i + 1)\n",
        "        plt.hist(clean_df[col], bins=100, alpha=0.7, color='blue', label=f'Clean {label}')\n",
        "        plt.title(f'{col} - Clean {label}')\n",
        "        plt.grid(True)\n",
        "        plt.legend()\n",
        "\n",
        "        plt.subplot(3, 2, 2*i + 2)\n",
        "        plt.hist(noisy_df[col], bins=100, alpha=0.7, color='red', label=f'Noisy {label}')\n",
        "        plt.title(f'{col} - Noisy {label}')\n",
        "        plt.grid(True)\n",
        "        plt.legend()\n",
        "\n",
        "    plt.tight_layout()\n",
        "    plt.show()\n",
        "\n",
        "# Use the function for each frequency\n",
        "plot_histograms(df_25hz, df_noise_25hz, \"25Hz\")\n",
        "plot_histograms(df_50hz, df_noise_50hz, \"50Hz\")\n",
        "plot_histograms(df_100hz, df_noise_100hz, \"100Hz\")\n",
        "\n",
        "\n"
      ],
      "metadata": {
        "id": "BO40NavD3CBl"
      },
      "execution_count": null,
      "outputs": []
    },
    {
      "cell_type": "markdown",
      "source": [
        "**Box Plots**"
      ],
      "metadata": {
        "id": "7jnImrgSVpHU"
      }
    },
    {
      "cell_type": "code",
      "source": [
        "# Prepare data for box plots\n",
        "data = {\n",
        "    '25Hz': {\n",
        "        'Clean': df_25hz[['AccHR_X', 'AccHR_Y', 'AccHR_Z']],\n",
        "        'Noisy': df_noise_25hz[['AccHR_X', 'AccHR_Y', 'AccHR_Z']]\n",
        "    },\n",
        "    '50Hz': {\n",
        "        'Clean': df_50hz[['AccHR_X', 'AccHR_Y', 'AccHR_Z']],\n",
        "        'Noisy': df_noise_50hz[['AccHR_X', 'AccHR_Y', 'AccHR_Z']]\n",
        "    },\n",
        "    '100Hz': {\n",
        "        'Clean': df_100hz[['AccHR_X', 'AccHR_Y', 'AccHR_Z']],\n",
        "        'Noisy': df_noise_100hz[['AccHR_X', 'AccHR_Y', 'AccHR_Z']]\n",
        "    }\n",
        "}\n",
        "\n",
        "axes = ['AccHR_X', 'AccHR_Y', 'AccHR_Z']\n",
        "\n",
        "# Plot boxplots using loop\n",
        "for freq, sets in data.items():\n",
        "    for axis in axes:\n",
        "        plt.figure(figsize=(12, 6))\n",
        "        plt.boxplot([\n",
        "            sets['Clean'][axis].dropna(),\n",
        "            sets['Noisy'][axis].dropna()\n",
        "        ], labels=[f'Clean {freq}', f'Noisy {freq}'])\n",
        "        plt.title(f'Box Plot of {axis} ({freq})')\n",
        "        plt.ylabel('Acceleration')\n",
        "        plt.grid(True)\n",
        "        plt.tight_layout()\n",
        "        plt.show()\n"
      ],
      "metadata": {
        "id": "PjOMdaC-XnLK"
      },
      "execution_count": null,
      "outputs": []
    },
    {
      "cell_type": "markdown",
      "source": [
        "**Create plots for Temperature vs SampleTimeFine for each dataset**"
      ],
      "metadata": {
        "id": "eqbitty9aH3s"
      }
    },
    {
      "cell_type": "code",
      "source": [
        "plt.figure(figsize=(18, 15))\n",
        "\n",
        "# Plot for 25hz.csv\n",
        "plt.subplot(3, 2, 1)\n",
        "plt.plot(df_25hz['SampleTimeFine'], df_25hz['Temperature'], color='blue')\n",
        "plt.title('Temperature vs SampleTimeFine (25Hz Clean)')\n",
        "plt.xlabel('SampleTimeFine')\n",
        "plt.ylabel('Temperature')\n",
        "plt.grid(True)\n",
        "\n",
        "# Plot for Noise_25HZ.csv\n",
        "plt.subplot(3, 2, 2)\n",
        "plt.plot(df_noise_25hz['SampleTimeFine'], df_noise_25hz['Temperature'], color='red')\n",
        "plt.title('Temperature vs SampleTimeFine (25Hz Noisy)')\n",
        "plt.xlabel('SampleTimeFine')\n",
        "plt.ylabel('Temperature')\n",
        "plt.grid(True)\n",
        "\n",
        "# Plot for 50hz.csv\n",
        "plt.subplot(3, 2, 3)\n",
        "plt.plot(df_50hz['SampleTimeFine'], df_50hz['Temperature'], color='purple')\n",
        "plt.title('Temperature vs SampleTimeFine (50Hz Clean)')\n",
        "plt.xlabel('SampleTimeFine')\n",
        "plt.ylabel('Temperature')\n",
        "plt.grid(True)\n",
        "\n",
        "# Plot for Noise_50hz.csv\n",
        "plt.subplot(3, 2, 4)\n",
        "plt.plot(df_noise_50hz['SampleTimeFine'], df_noise_50hz['Temperature'], color='brown')\n",
        "plt.title('Temperature vs SampleTimeFine (50Hz Noisy)')\n",
        "plt.xlabel('SampleTimeFine')\n",
        "plt.ylabel('Temperature')\n",
        "plt.grid(True)\n",
        "\n",
        "\n",
        "# Plot for 100hz.csv\n",
        "plt.subplot(3, 2, 5)\n",
        "plt.plot(df_100hz['SampleTimeFine'], df_100hz['Temperature'], color='green')\n",
        "plt.title('Temperature vs SampleTimeFine (100Hz Clean)')\n",
        "plt.xlabel('SampleTimeFine')\n",
        "plt.ylabel('Temperature')\n",
        "plt.grid(True)\n",
        "\n",
        "# Plot for Noise_100hz.csv\n",
        "plt.subplot(3, 2, 6)\n",
        "plt.plot(df_noise_100hz['SampleTimeFine'], df_noise_100hz['Temperature'], color='orange')\n",
        "plt.title('Temperature vs SampleTimeFine (100Hz Noisy)')\n",
        "plt.xlabel('SampleTimeFine')\n",
        "plt.ylabel('Temperature')\n",
        "plt.grid(True)"
      ],
      "metadata": {
        "id": "L3aBOb-Za5MU"
      },
      "execution_count": null,
      "outputs": []
    },
    {
      "cell_type": "code",
      "source": [
        "# Create a function to plot Roll, Pitch, Yaw data\n",
        "def plot_rpy(df, title_prefix, filename_prefix):\n",
        "    plt.figure(figsize=(15, 5))\n",
        "\n",
        "    plt.subplot(1, 3, 1)\n",
        "    plt.plot(df['SampleTimeFine'], df['Roll'], label='Roll')\n",
        "    plt.title(f'{title_prefix} - Roll')\n",
        "    plt.xlabel('SampleTimeFine')\n",
        "    plt.ylabel('Roll')\n",
        "    plt.legend()\n",
        "\n",
        "    plt.subplot(1, 3, 2)\n",
        "    plt.plot(df['SampleTimeFine'], df['Pitch'], label='Pitch', color='orange')\n",
        "    plt.title(f'{title_prefix} - Pitch')\n",
        "    plt.xlabel('SampleTimeFine')\n",
        "    plt.ylabel('Pitch')\n",
        "    plt.legend()\n",
        "\n",
        "    plt.subplot(1, 3, 3)\n",
        "    plt.plot(df['SampleTimeFine'], df['Yaw'], label='Yaw', color='green')\n",
        "    plt.title(f'{title_prefix} - Yaw')\n",
        "    plt.xlabel('SampleTimeFine')\n",
        "    plt.ylabel('Yaw')\n",
        "    plt.legend()\n",
        "\n",
        "# Plotting clean datasets\n",
        "plot_rpy(df_25hz, 'Clean 25Hz Data', 'clean_25hz')\n",
        "plot_rpy(df_noise_25hz, 'Noisy 25Hz Data', 'noisy_25hz')\n",
        "plot_rpy(df_50hz, 'Clean 50Hz Data', 'clean_50hz')\n",
        "plot_rpy(df_noise_50hz, 'Noisy 50Hz Data', 'noisy_50hz')\n",
        "plot_rpy(df_100hz, 'Clean 100Hz Data', 'clean_100hz')\n",
        "plot_rpy(df_noise_100hz, 'Noisy 100Hz Data', 'noisy_100hz')\n"
      ],
      "metadata": {
        "id": "3HAgRY5mbr6X"
      },
      "execution_count": null,
      "outputs": []
    },
    {
      "cell_type": "markdown",
      "source": [
        "**Calculate and print summary statistics for 'AccHR_X', 'AccHR_Y', 'AccHR_Z'**"
      ],
      "metadata": {
        "id": "nS2xutvtTVW0"
      }
    },
    {
      "cell_type": "code",
      "source": [
        "print(\"Summary Statistics for 25Hz Clean Data:\")\n",
        "print(df_25hz[['AccHR_X', 'AccHR_Y', 'AccHR_Z']].describe())\n",
        "\n",
        "print(\"\\nSummary Statistics for 25Hz Noisy Data:\")\n",
        "print(df_noise_25hz[['AccHR_X', 'AccHR_Y', 'AccHR_Z']].describe())\n",
        "\n",
        "print(\"\\nSummary Statistics for 50Hz Clean Data:\")\n",
        "print(df_50hz[['AccHR_X', 'AccHR_Y', 'AccHR_Z']].describe())\n",
        "\n",
        "print(\"\\nSummary Statistics for 50Hz Noisy Data:\")\n",
        "print(df_noise_50hz[['AccHR_X', 'AccHR_Y', 'AccHR_Z']].describe())\n",
        "\n",
        "print(\"\\nSummary Statistics for 100Hz Clean Data:\")\n",
        "print(df_100hz[['AccHR_X', 'AccHR_Y', 'AccHR_Z']].describe())\n",
        "\n",
        "print(\"\\nSummary Statistics for 100Hz Noisy Data:\")\n",
        "print(df_noise_100hz[['AccHR_X', 'AccHR_Y', 'AccHR_Z']].describe())"
      ],
      "metadata": {
        "id": "bIquzX5rScGm"
      },
      "execution_count": null,
      "outputs": []
    },
    {
      "cell_type": "markdown",
      "source": [
        "**Data Cleaning**"
      ],
      "metadata": {
        "id": "5xzLVYBVYwEi"
      }
    },
    {
      "cell_type": "markdown",
      "source": [
        "**Moving Average Filter**"
      ],
      "metadata": {
        "id": "jG21BpTyYnY0"
      }
    },
    {
      "cell_type": "code",
      "source": [
        "# Define the columns for smoothing\n",
        "acc_cols = ['AccHR_X', 'AccHR_Y', 'AccHR_Z']\n",
        "\n",
        "# 25Hz\n",
        "window_size_25hz = 100\n",
        "df_noise_25hz_cleaned = df_noise_25hz.copy()\n",
        "for col in acc_cols:\n",
        "    df_noise_25hz_cleaned[col] = df_noise_25hz[col].rolling(window=window_size_25hz).mean()\n",
        "\n",
        "# 50Hz\n",
        "window_size_50hz = 200\n",
        "df_noise_50hz_cleaned = df_noise_50hz.copy()\n",
        "for col in acc_cols:\n",
        "    df_noise_50hz_cleaned[col] = df_noise_50hz[col].rolling(window=window_size_50hz).mean()\n",
        "\n",
        "# 100Hz\n",
        "window_size_100hz = 400\n",
        "df_noise_100hz_cleaned = df_noise_100hz.copy()\n",
        "for col in acc_cols:\n",
        "    df_noise_100hz_cleaned[col] = df_noise_100hz[col].rolling(window=window_size_100hz).mean()\n",
        "\n",
        "\n",
        "\n"
      ],
      "metadata": {
        "id": "8g6XO0yVTbuH"
      },
      "execution_count": null,
      "outputs": []
    },
    {
      "cell_type": "code",
      "source": [
        "df_noise_25hz_cleaned\n"
      ],
      "metadata": {
        "id": "8F7HqJnQUM8R"
      },
      "execution_count": null,
      "outputs": []
    },
    {
      "cell_type": "code",
      "source": [
        "df_noise_50hz_cleaned"
      ],
      "metadata": {
        "id": "s-GbJrf_UkN3"
      },
      "execution_count": null,
      "outputs": []
    },
    {
      "cell_type": "code",
      "source": [
        "df_noise_100hz_cleaned"
      ],
      "metadata": {
        "id": "zWeN1jmoU2aQ"
      },
      "execution_count": null,
      "outputs": []
    },
    {
      "cell_type": "code",
      "source": [
        "df_noise_25hz_cleaned = df_noise_25hz_cleaned.dropna().reset_index(drop=True)\n",
        "df_noise_50hz_cleaned = df_noise_50hz_cleaned.dropna().reset_index(drop=True)\n",
        "df_noise_100hz_cleaned = df_noise_100hz_cleaned.dropna().reset_index(drop=True)\n"
      ],
      "metadata": {
        "id": "62J2GRHpvY-h"
      },
      "execution_count": null,
      "outputs": []
    },
    {
      "cell_type": "code",
      "source": [
        "df_noise_25hz_cleaned"
      ],
      "metadata": {
        "id": "CpOpBgO3vcgW"
      },
      "execution_count": null,
      "outputs": []
    },
    {
      "cell_type": "code",
      "source": [
        "df_noise_50hz_cleaned"
      ],
      "metadata": {
        "id": "sWr339WQwM6Q"
      },
      "execution_count": null,
      "outputs": []
    },
    {
      "cell_type": "code",
      "source": [
        "df_noise_100hz_cleaned"
      ],
      "metadata": {
        "id": "t5gpIh__wQFY"
      },
      "execution_count": null,
      "outputs": []
    },
    {
      "cell_type": "code",
      "source": [
        "# Plot original vs smoothed for 25Hz noisy data (smoothed data replaces original columns)\n",
        "plt.figure(figsize=(15, 15))\n",
        "\n",
        "for i, col in enumerate(acc_cols):\n",
        "    plt.subplot(3, 1, i + 1)\n",
        "\n",
        "    # Plot original (before smoothing)\n",
        "    plt.plot(df_noise_25hz['SampleTimeFine'], df_noise_25hz[col], label=f'Original {col} (Noisy)', alpha=0.5)\n",
        "\n",
        "    # Plot smoothed (after replacing original columns)\n",
        "    plt.plot(df_noise_25hz_cleaned['SampleTimeFine'], df_noise_25hz_cleaned[col], label=f'Smoothed {col} (Window={window_size_25hz})', color='green')\n",
        "\n",
        "    plt.title(f'{col}: Original Noisy vs. Smoothed (25Hz)')\n",
        "    plt.xlabel('SampleTimeFine')\n",
        "    plt.ylabel('Acceleration')\n",
        "    plt.legend()\n",
        "    plt.grid(True)\n",
        "\n",
        "plt.tight_layout()\n",
        "plt.show()\n"
      ],
      "metadata": {
        "id": "G9e9IbJLVG3P"
      },
      "execution_count": null,
      "outputs": []
    },
    {
      "cell_type": "code",
      "source": [
        "# Plot original vs smoothed for 50Hz noisy data\n",
        "plt.figure(figsize=(15, 15))\n",
        "\n",
        "for i, col in enumerate(acc_cols):\n",
        "    plt.subplot(3, 1, i + 1)\n",
        "\n",
        "    # Original noisy data\n",
        "    plt.plot(df_noise_50hz['SampleTimeFine'], df_noise_50hz[col], label=f'Original {col} (Noisy)', alpha=0.5)\n",
        "\n",
        "    # Smoothed data (replaced in the same column)\n",
        "    plt.plot(df_noise_50hz_cleaned['SampleTimeFine'], df_noise_50hz_cleaned[col], label=f'Smoothed {col} (Window={window_size_50hz})', color='green')\n",
        "\n",
        "    plt.title(f'{col}: Original Noisy vs. Smoothed (50Hz)')\n",
        "    plt.xlabel('SampleTimeFine')\n",
        "    plt.ylabel('Acceleration')\n",
        "    plt.legend()\n",
        "    plt.grid(True)\n",
        "\n",
        "plt.tight_layout()\n",
        "plt.show()\n"
      ],
      "metadata": {
        "id": "vfRyRdyVVwBZ"
      },
      "execution_count": null,
      "outputs": []
    },
    {
      "cell_type": "code",
      "source": [
        "# Plot original vs smoothed for 100Hz noisy data\n",
        "plt.figure(figsize=(15, 15))\n",
        "\n",
        "for i, col in enumerate(acc_cols):\n",
        "    plt.subplot(3, 1, i + 1)\n",
        "\n",
        "    # Original noisy data\n",
        "    plt.plot(df_noise_100hz['SampleTimeFine'], df_noise_100hz[col], label=f'Original {col} (Noisy)', alpha=0.5)\n",
        "\n",
        "    # Smoothed data (same column name after overwrite)\n",
        "    plt.plot(df_noise_100hz_cleaned['SampleTimeFine'], df_noise_100hz_cleaned[col], label=f'Smoothed {col} (Window={window_size_100hz})', color='green')\n",
        "\n",
        "    plt.title(f'{col}: Original Noisy vs. Smoothed (100Hz)')\n",
        "    plt.xlabel('SampleTimeFine')\n",
        "    plt.ylabel('Acceleration')\n",
        "    plt.legend()\n",
        "    plt.grid(True)\n",
        "\n",
        "plt.tight_layout()\n",
        "plt.show()\n"
      ],
      "metadata": {
        "id": "UQSKxHO7WAIX"
      },
      "execution_count": null,
      "outputs": []
    },
    {
      "cell_type": "code",
      "source": [
        "datasets = {\n",
        "    \"25Hz\": df_noise_25hz_cleaned,\n",
        "    \"50Hz\": df_noise_50hz_cleaned,\n",
        "    \"100Hz\": df_noise_100hz_cleaned\n",
        "}\n",
        "\n",
        "# Acceleration columns to analyze\n",
        "acc_cols = ['AccHR_X', 'AccHR_Y', 'AccHR_Z']\n",
        "\n",
        "# Loop through each dataset and print summary stats\n",
        "for label, df in datasets.items():\n",
        "    smoothed_stats = df[acc_cols].describe()\n",
        "\n",
        "    print(f\"\\nSummary Statistics for Smoothed Data ({label}):\")\n",
        "    print(smoothed_stats)\n"
      ],
      "metadata": {
        "id": "a5RSDdgKgdNC"
      },
      "execution_count": null,
      "outputs": []
    },
    {
      "cell_type": "code",
      "source": [
        "# Create dictionaries for original and smoothed noisy data\n",
        "original_dataframes = {\n",
        "    \"25Hz\": df_noise_25hz,\n",
        "    \"50Hz\": df_noise_50hz,\n",
        "    \"100Hz\": df_noise_100hz\n",
        "}\n",
        "\n",
        "smoothed_dataframes = {\n",
        "    \"25Hz\": df_noise_25hz_cleaned,\n",
        "    \"50Hz\": df_noise_50hz_cleaned,\n",
        "    \"100Hz\": df_noise_100hz_cleaned\n",
        "}\n",
        "\n",
        "# Noise Reduction Summary\n",
        "for name in [\"25Hz\", \"50Hz\", \"100Hz\"]:\n",
        "    print(f\"\\nNoise Reduction Assessment for {name}\")\n",
        "\n",
        "    original_df = original_dataframes[name]\n",
        "    smoothed_df = smoothed_dataframes[name]\n",
        "\n",
        "    # Compute standard deviations for accelerometer columns\n",
        "    original_std = original_df[acc_cols].std()\n",
        "    smoothed_std = smoothed_df[acc_cols].std()\n",
        "\n",
        "    # Calculate % reduction in standard deviation\n",
        "    percentage_reduction = ((original_std - smoothed_std) / original_std) * 100\n",
        "\n",
        "    # Display results\n",
        "    print(\"\\nStandard Deviation - Original (Noisy):\")\n",
        "    print(original_std.round(4))\n",
        "\n",
        "    print(\"\\nStandard Deviation - Smoothed:\")\n",
        "    print(smoothed_std.round(4))\n",
        "\n",
        "    print(\"\\nPercentage Reduction in Noise (Standard Deviation):\")\n",
        "    print(percentage_reduction.round(2))\n",
        "    print(\"-\" * 60)\n",
        "\n",
        "\n"
      ],
      "metadata": {
        "id": "VnSCX54ZsYTv"
      },
      "execution_count": null,
      "outputs": []
    },
    {
      "cell_type": "markdown",
      "source": [
        "To build a self-learning machine learning model that can be trained on sensor datasets and produce:\n",
        "\n",
        "Low prediction error\n",
        "\n",
        "Higher precision\n",
        "\n",
        "Continuously learn and adapt from incoming data\n",
        "\n",
        "The final model will be applied to predict the following sensor-based targets:\n",
        "\n",
        "Temperature\n",
        "\n",
        "Magnetic Field (Mag_X, Mag_Y, Mag_Z)\n",
        "\n",
        "\n"
      ],
      "metadata": {
        "id": "4t4rNO99sYbw"
      }
    },
    {
      "cell_type": "code",
      "source": [],
      "metadata": {
        "id": "UUvt_XBRRyjA"
      },
      "execution_count": null,
      "outputs": []
    },
    {
      "cell_type": "code",
      "metadata": {
        "id": "f8586495"
      },
      "source": [
        "# Combine clean and smoothed noisy data with labels and frequency information\n",
        "\n",
        "df_25hz['label'] = 0\n",
        "df_25hz['Freq'] = 25\n",
        "\n",
        "df_noise_25hz_cleaned['label'] = 1\n",
        "df_noise_25hz_cleaned['Freq'] = 25\n",
        "\n",
        "df_50hz['label'] = 0\n",
        "df_50hz['Freq'] = 50\n",
        "\n",
        "df_noise_50hz_cleaned['label'] = 1\n",
        "df_noise_50hz_cleaned['Freq'] = 50\n",
        "\n",
        "df_100hz['label'] = 0\n",
        "df_100hz['Freq'] = 100\n",
        "\n",
        "df_noise_100hz_cleaned['label'] = 1\n",
        "df_noise_100hz_cleaned['Freq'] = 100\n",
        "\n",
        "# Combine all dataframes\n",
        "combined_df = pd.concat([\n",
        "    df_25hz, df_noise_25hz_cleaned,\n",
        "    df_50hz, df_noise_50hz_cleaned,\n",
        "    df_100hz, df_noise_100hz_cleaned\n",
        "], ignore_index=True)\n",
        "\n",
        "# Display the first few rows of the combined dataframe\n",
        "display(combined_df.head())\n",
        "\n",
        "# Display info and missing values for the combined dataframe\n",
        "print(\"\\nInfo for combined_df:\")\n",
        "combined_df.info()\n",
        "\n",
        "print(\"\\nMissing values in combined_df:\")\n",
        "print(combined_df.isnull().sum())"
      ],
      "execution_count": null,
      "outputs": []
    },
    {
      "cell_type": "code",
      "source": [
        "features = [\n",
        "    'AccHR_X', 'AccHR_Y', 'AccHR_Z',\n",
        "    'Roll', 'Pitch', 'Yaw',\n",
        "    'Mag_X', 'Mag_Y', 'Mag_Z', # We can use magnetic field to help predict temperature\n",
        "    'Freq' # The sampling frequency can be a useful feature\n",
        "]\n",
        "X = combined_df[features]\n",
        "y_temp = combined_df['Temperature']"
      ],
      "metadata": {
        "id": "UUkLZTxXWz5k"
      },
      "execution_count": null,
      "outputs": []
    },
    {
      "cell_type": "code",
      "source": [
        "from sklearn.model_selection import train_test_split, KFold, cross_val_score\n",
        "from sklearn.preprocessing import StandardScaler\n",
        "from sklearn.ensemble import RandomForestRegressor\n",
        "from sklearn.pipeline import Pipeline\n",
        "from sklearn.metrics import mean_squared_error\n",
        "temp_pipeline = Pipeline([\n",
        "    ('scaler', StandardScaler()),\n",
        "    ('model', RandomForestRegressor(n_estimators=100, random_state=42, n_jobs=-1))\n",
        "])"
      ],
      "metadata": {
        "id": "5vmbkJQvW-Cq"
      },
      "execution_count": null,
      "outputs": []
    },
    {
      "cell_type": "code",
      "source": [
        "cv = KFold(n_splits=10, shuffle=True, random_state=42)"
      ],
      "metadata": {
        "id": "_YE7b7d5XPRo"
      },
      "execution_count": null,
      "outputs": []
    },
    {
      "cell_type": "code",
      "source": [
        "scores = cross_val_score(temp_pipeline, X, y_temp, cv=cv, scoring='neg_mean_squared_error')\n"
      ],
      "metadata": {
        "id": "hwYV9_WXXVGg"
      },
      "execution_count": null,
      "outputs": []
    },
    {
      "cell_type": "code",
      "source": [
        "rmse_scores = np.sqrt(-scores)\n",
        "\n",
        "print(\" Temperature Model Cross-Validation Results\")\n",
        "print(f\"Scores for each of the 10 folds (RMSE): {np.round(rmse_scores, 4)}\")\n",
        "print(f\"\\nAverage RMSE: {rmse_scores.mean():.4f}\")\n",
        "print(f\"Standard Deviation of RMSE: {rmse_scores.std():.4f}\")\n"
      ],
      "metadata": {
        "id": "JJjZSae3Xe3U"
      },
      "execution_count": null,
      "outputs": []
    },
    {
      "cell_type": "code",
      "source": [
        "from sklearn.metrics import mean_absolute_error, r2_score\n",
        "\n",
        "# Predictions\n",
        "y_temp_pred = temp_pipeline.predict(X)\n",
        "\n",
        "# Evaluate\n",
        "mae_temp = mean_absolute_error(y_temp, y_temp_pred)\n",
        "r2_temp = r2_score(y_temp, y_temp_pred)\n",
        "\n",
        "print(\"\\nTemperature Model Evaluation:\")\n",
        "print(f\"MAE: {mae_temp:.4f}\")\n",
        "print(f\"R² Score: {r2_temp:.4f}\")\n"
      ],
      "metadata": {
        "id": "YLe0pUIgzDxC"
      },
      "execution_count": null,
      "outputs": []
    },
    {
      "cell_type": "code",
      "source": [
        "# Magnetic Field Model\n",
        "\n",
        "# Define features and target\n",
        "mag_features = [\n",
        "    'AccHR_X', 'AccHR_Y', 'AccHR_Z',\n",
        "    'Roll', 'Pitch', 'Yaw',\n",
        "    'Temperature', # We use temperature to help predict magnetic field\n",
        "    'Freq'\n",
        "]\n",
        "X_mag = combined_df[mag_features]\n",
        "y_mag = combined_df[['Mag_X', 'Mag_Y', 'Mag_Z']]\n",
        "\n",
        "# Build the pipeline\n",
        "from sklearn.multioutput import MultiOutputRegressor\n",
        "\n",
        "# Build the pipeline using MultiOutputRegressor for 3-target output\n",
        "mag_pipeline = Pipeline([\n",
        "    ('scaler', StandardScaler()),\n",
        "    ('model', MultiOutputRegressor(RandomForestRegressor(n_estimators=100, random_state=42, n_jobs=-1)))\n",
        "])\n",
        "\n",
        "\n",
        "# Validate with Cross-Validation\n",
        "mag_scores = cross_val_score(mag_pipeline, X_mag, y_mag, cv=cv, scoring='neg_mean_squared_error')\n",
        "\n",
        "avg_mag_rmse = np.sqrt(-mag_scores).mean()\n",
        "std_mag_rmse = np.sqrt(-mag_scores).std()\n",
        "\n",
        "print(\"\\nMagnetic Field Model Cross-Validation Results \")\n",
        "print(f\"Average RMSE: {avg_mag_rmse:.4f}\")\n",
        "print(f\"Standard Deviation of RMSE: {std_mag_rmse:.4f}\")"
      ],
      "metadata": {
        "id": "uy0ymLmRX_LA"
      },
      "execution_count": null,
      "outputs": []
    },
    {
      "cell_type": "code",
      "source": [
        "# Predictions\n",
        "y_mag_pred = mag_pipeline.predict(X_mag)\n",
        "\n",
        "# Evaluate each magnetic axis separately\n",
        "mae_mag = mean_absolute_error(y_mag, y_mag_pred)\n",
        "r2_mag = r2_score(y_mag, y_mag_pred)\n",
        "\n",
        "print(\"\\nMagnetic Field Model Evaluation:\")\n",
        "print(f\"MAE: {mae_mag:.4f}\")\n",
        "print(f\"R² Score: {r2_mag:.4f}\")\n"
      ],
      "metadata": {
        "id": "L1UJy9_nzFZl"
      },
      "execution_count": null,
      "outputs": []
    },
    {
      "cell_type": "code",
      "source": [
        "# Train the final temperature pipeline on all data\n",
        "temp_pipeline.fit(X, y_temp)\n",
        "\n",
        "# Train the final magnetic field pipeline on all data\n",
        "mag_pipeline.fit(X_mag, y_mag)\n",
        "\n",
        "# save these final, robust pipelines\n",
        "import pickle\n",
        "\n",
        "with open('robust_temp_pipeline.pkl', 'wb') as f:\n",
        "    pickle.dump(temp_pipeline, f)\n",
        "\n",
        "with open('robust_mag_pipeline.pkl', 'wb') as f:\n",
        "    pickle.dump(mag_pipeline, f)\n",
        "\n",
        "print(\"\\nFinal, robust pipelines have been trained and saved.\")"
      ],
      "metadata": {
        "id": "OdFhtQ3uYGCv"
      },
      "execution_count": null,
      "outputs": []
    }
  ]
}